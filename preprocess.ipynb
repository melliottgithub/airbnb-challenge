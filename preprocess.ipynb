{
 "cells": [
  {
   "cell_type": "code",
   "execution_count": 113,
   "metadata": {},
   "outputs": [],
   "source": [
    "import pandas as pd\n",
    "from file_utils import save_to_pickle"
   ]
  },
  {
   "cell_type": "markdown",
   "metadata": {},
   "source": [
    "## Listings\n",
    "list of available rooms (listing)\n",
    "- id_listing_anon: primary key\n",
    "- room_type: categorical, no missing values\n",
    "- listing_neighborhood: categorical, no missing values (\"-unknown-\" represents missing info)"
   ]
  },
  {
   "cell_type": "code",
   "execution_count": 114,
   "metadata": {},
   "outputs": [
    {
     "data": {
      "text/html": [
       "<div>\n",
       "<style scoped>\n",
       "    .dataframe tbody tr th:only-of-type {\n",
       "        vertical-align: middle;\n",
       "    }\n",
       "\n",
       "    .dataframe tbody tr th {\n",
       "        vertical-align: top;\n",
       "    }\n",
       "\n",
       "    .dataframe thead th {\n",
       "        text-align: right;\n",
       "    }\n",
       "</style>\n",
       "<table border=\"1\" class=\"dataframe\">\n",
       "  <thead>\n",
       "    <tr style=\"text-align: right;\">\n",
       "      <th></th>\n",
       "      <th>id_listing_anon</th>\n",
       "      <th>room_type</th>\n",
       "      <th>listing_neighborhood</th>\n",
       "      <th>total_reviews</th>\n",
       "    </tr>\n",
       "  </thead>\n",
       "  <tbody>\n",
       "    <tr>\n",
       "      <th>0</th>\n",
       "      <td>71582793-e5f8-46d7-afdf-7a31d2341c79</td>\n",
       "      <td>Private room</td>\n",
       "      <td>-unknown-</td>\n",
       "      <td>0.0</td>\n",
       "    </tr>\n",
       "    <tr>\n",
       "      <th>1</th>\n",
       "      <td>a1a3f728-e21f-4432-96aa-361d28e2b319</td>\n",
       "      <td>Entire home/apt</td>\n",
       "      <td>Copacabana</td>\n",
       "      <td>0.0</td>\n",
       "    </tr>\n",
       "    <tr>\n",
       "      <th>2</th>\n",
       "      <td>353a68be-ecf9-4b7b-9533-c882dc2f0760</td>\n",
       "      <td>Entire home/apt</td>\n",
       "      <td>Barra da Tijuca</td>\n",
       "      <td>3.0</td>\n",
       "    </tr>\n",
       "    <tr>\n",
       "      <th>3</th>\n",
       "      <td>b9ae1908-0486-40ac-bbcf-bd63ffebfe63</td>\n",
       "      <td>Entire home/apt</td>\n",
       "      <td>Lapa</td>\n",
       "      <td>4.0</td>\n",
       "    </tr>\n",
       "  </tbody>\n",
       "</table>\n",
       "</div>"
      ],
      "text/plain": [
       "                        id_listing_anon        room_type listing_neighborhood  \\\n",
       "0  71582793-e5f8-46d7-afdf-7a31d2341c79     Private room            -unknown-   \n",
       "1  a1a3f728-e21f-4432-96aa-361d28e2b319  Entire home/apt           Copacabana   \n",
       "2  353a68be-ecf9-4b7b-9533-c882dc2f0760  Entire home/apt      Barra da Tijuca   \n",
       "3  b9ae1908-0486-40ac-bbcf-bd63ffebfe63  Entire home/apt                 Lapa   \n",
       "\n",
       "   total_reviews  \n",
       "0            0.0  \n",
       "1            0.0  \n",
       "2            3.0  \n",
       "3            4.0  "
      ]
     },
     "execution_count": 114,
     "metadata": {},
     "output_type": "execute_result"
    }
   ],
   "source": [
    "df_listings = pd.read_csv('./listings.csv')\n",
    "df_listings.head(4)"
   ]
  },
  {
   "cell_type": "code",
   "execution_count": 115,
   "metadata": {},
   "outputs": [
    {
     "name": "stdout",
     "output_type": "stream",
     "text": [
      "<class 'pandas.core.frame.DataFrame'>\n",
      "RangeIndex: 13038 entries, 0 to 13037\n",
      "Data columns (total 4 columns):\n",
      " #   Column                Non-Null Count  Dtype  \n",
      "---  ------                --------------  -----  \n",
      " 0   id_listing_anon       13038 non-null  object \n",
      " 1   room_type             13038 non-null  object \n",
      " 2   listing_neighborhood  13038 non-null  object \n",
      " 3   total_reviews         13038 non-null  float64\n",
      "dtypes: float64(1), object(3)\n",
      "memory usage: 407.6+ KB\n"
     ]
    }
   ],
   "source": [
    "df_listings.info()"
   ]
  },
  {
   "cell_type": "code",
   "execution_count": 116,
   "metadata": {},
   "outputs": [
    {
     "data": {
      "text/html": [
       "<div>\n",
       "<style scoped>\n",
       "    .dataframe tbody tr th:only-of-type {\n",
       "        vertical-align: middle;\n",
       "    }\n",
       "\n",
       "    .dataframe tbody tr th {\n",
       "        vertical-align: top;\n",
       "    }\n",
       "\n",
       "    .dataframe thead th {\n",
       "        text-align: right;\n",
       "    }\n",
       "</style>\n",
       "<table border=\"1\" class=\"dataframe\">\n",
       "  <thead>\n",
       "    <tr style=\"text-align: right;\">\n",
       "      <th></th>\n",
       "      <th>id_listing_anon</th>\n",
       "      <th>room_type</th>\n",
       "      <th>listing_neighborhood</th>\n",
       "    </tr>\n",
       "  </thead>\n",
       "  <tbody>\n",
       "    <tr>\n",
       "      <th>count</th>\n",
       "      <td>13038</td>\n",
       "      <td>13038</td>\n",
       "      <td>13038</td>\n",
       "    </tr>\n",
       "    <tr>\n",
       "      <th>unique</th>\n",
       "      <td>13038</td>\n",
       "      <td>3</td>\n",
       "      <td>68</td>\n",
       "    </tr>\n",
       "    <tr>\n",
       "      <th>top</th>\n",
       "      <td>71582793-e5f8-46d7-afdf-7a31d2341c79</td>\n",
       "      <td>Entire home/apt</td>\n",
       "      <td>-unknown-</td>\n",
       "    </tr>\n",
       "    <tr>\n",
       "      <th>freq</th>\n",
       "      <td>1</td>\n",
       "      <td>9647</td>\n",
       "      <td>6221</td>\n",
       "    </tr>\n",
       "  </tbody>\n",
       "</table>\n",
       "</div>"
      ],
      "text/plain": [
       "                             id_listing_anon        room_type  \\\n",
       "count                                  13038            13038   \n",
       "unique                                 13038                3   \n",
       "top     71582793-e5f8-46d7-afdf-7a31d2341c79  Entire home/apt   \n",
       "freq                                       1             9647   \n",
       "\n",
       "       listing_neighborhood  \n",
       "count                 13038  \n",
       "unique                   68  \n",
       "top               -unknown-  \n",
       "freq                   6221  "
      ]
     },
     "execution_count": 116,
     "metadata": {},
     "output_type": "execute_result"
    }
   ],
   "source": [
    "df_listings.describe(include='object')"
   ]
  },
  {
   "cell_type": "code",
   "execution_count": 117,
   "metadata": {},
   "outputs": [
    {
     "data": {
      "text/html": [
       "<div>\n",
       "<style scoped>\n",
       "    .dataframe tbody tr th:only-of-type {\n",
       "        vertical-align: middle;\n",
       "    }\n",
       "\n",
       "    .dataframe tbody tr th {\n",
       "        vertical-align: top;\n",
       "    }\n",
       "\n",
       "    .dataframe thead th {\n",
       "        text-align: right;\n",
       "    }\n",
       "</style>\n",
       "<table border=\"1\" class=\"dataframe\">\n",
       "  <thead>\n",
       "    <tr style=\"text-align: right;\">\n",
       "      <th></th>\n",
       "      <th>total_reviews</th>\n",
       "    </tr>\n",
       "  </thead>\n",
       "  <tbody>\n",
       "    <tr>\n",
       "      <th>count</th>\n",
       "      <td>13038.000000</td>\n",
       "    </tr>\n",
       "    <tr>\n",
       "      <th>mean</th>\n",
       "      <td>7.004525</td>\n",
       "    </tr>\n",
       "    <tr>\n",
       "      <th>std</th>\n",
       "      <td>17.059747</td>\n",
       "    </tr>\n",
       "    <tr>\n",
       "      <th>min</th>\n",
       "      <td>-34.000000</td>\n",
       "    </tr>\n",
       "    <tr>\n",
       "      <th>25%</th>\n",
       "      <td>0.000000</td>\n",
       "    </tr>\n",
       "    <tr>\n",
       "      <th>50%</th>\n",
       "      <td>1.000000</td>\n",
       "    </tr>\n",
       "    <tr>\n",
       "      <th>75%</th>\n",
       "      <td>5.000000</td>\n",
       "    </tr>\n",
       "    <tr>\n",
       "      <th>max</th>\n",
       "      <td>268.000000</td>\n",
       "    </tr>\n",
       "  </tbody>\n",
       "</table>\n",
       "</div>"
      ],
      "text/plain": [
       "       total_reviews\n",
       "count   13038.000000\n",
       "mean        7.004525\n",
       "std        17.059747\n",
       "min       -34.000000\n",
       "25%         0.000000\n",
       "50%         1.000000\n",
       "75%         5.000000\n",
       "max       268.000000"
      ]
     },
     "execution_count": 117,
     "metadata": {},
     "output_type": "execute_result"
    }
   ],
   "source": [
    "df_listings.describe()"
   ]
  },
  {
   "cell_type": "markdown",
   "metadata": {},
   "source": [
    "### Imputting negative review counts"
   ]
  },
  {
   "cell_type": "code",
   "execution_count": 118,
   "metadata": {},
   "outputs": [
    {
     "name": "stdout",
     "output_type": "stream",
     "text": [
      "Rows imputted:  41\n"
     ]
    }
   ],
   "source": [
    "negative_reviews_count = len(df_listings[df_listings['total_reviews'] < 0])\n",
    "df_listings.loc[df_listings['total_reviews'] < 0, 'total_reviews'] = 0\n",
    "print('Rows imputted: ', negative_reviews_count)"
   ]
  },
  {
   "cell_type": "markdown",
   "metadata": {},
   "source": [
    "## Contacts\n",
    "- foreign keys: id_guest_anon, id_host_anon, id_listing_anon\n",
    "- ts_reply_at_first, ts_accepted_at_first, ts_booking_at: may or not be present (NaN)\n",
    "- m_guests: has missing values"
   ]
  },
  {
   "cell_type": "code",
   "execution_count": 119,
   "metadata": {},
   "outputs": [
    {
     "data": {
      "text/html": [
       "<div>\n",
       "<style scoped>\n",
       "    .dataframe tbody tr th:only-of-type {\n",
       "        vertical-align: middle;\n",
       "    }\n",
       "\n",
       "    .dataframe tbody tr th {\n",
       "        vertical-align: top;\n",
       "    }\n",
       "\n",
       "    .dataframe thead th {\n",
       "        text-align: right;\n",
       "    }\n",
       "</style>\n",
       "<table border=\"1\" class=\"dataframe\">\n",
       "  <thead>\n",
       "    <tr style=\"text-align: right;\">\n",
       "      <th></th>\n",
       "      <th>id_guest_anon</th>\n",
       "      <th>id_host_anon</th>\n",
       "      <th>id_listing_anon</th>\n",
       "      <th>ts_interaction_first</th>\n",
       "      <th>ts_reply_at_first</th>\n",
       "      <th>ts_accepted_at_first</th>\n",
       "      <th>ts_booking_at</th>\n",
       "      <th>ds_checkin_first</th>\n",
       "      <th>ds_checkout_first</th>\n",
       "      <th>m_guests</th>\n",
       "      <th>m_interactions</th>\n",
       "      <th>m_first_message_length_in_characters</th>\n",
       "      <th>contact_channel_first</th>\n",
       "      <th>guest_user_stage_first</th>\n",
       "    </tr>\n",
       "  </thead>\n",
       "  <tbody>\n",
       "    <tr>\n",
       "      <th>0</th>\n",
       "      <td>da8656a1-51af-4f38-b1c4-94be1f585157</td>\n",
       "      <td>5426897d-960d-4013-9e38-606ae746793c</td>\n",
       "      <td>a408a8b2-0d44-4513-a611-3736d0409bb2</td>\n",
       "      <td>2016-04-21 02:55:53</td>\n",
       "      <td>2016-04-21 03:15:00.0</td>\n",
       "      <td>2016-04-21 03:15:00.0</td>\n",
       "      <td>2016-04-21 03:15:00.0</td>\n",
       "      <td>2016-08-02</td>\n",
       "      <td>2016-08-06</td>\n",
       "      <td>4.0</td>\n",
       "      <td>30</td>\n",
       "      <td>31.0</td>\n",
       "      <td>book_it</td>\n",
       "      <td>past_booker</td>\n",
       "    </tr>\n",
       "    <tr>\n",
       "      <th>1</th>\n",
       "      <td>8590d6f1-8bc9-4e8b-bdfb-de78f69fcf37</td>\n",
       "      <td>f30417c5-6df4-45ac-bfc2-6ad1cce398ab</td>\n",
       "      <td>e387c705-0aeb-464c-9375-ece63be6f006</td>\n",
       "      <td>2016-02-16 22:14:01</td>\n",
       "      <td>2016-02-16 23:37:36.0</td>\n",
       "      <td>NaN</td>\n",
       "      <td>NaN</td>\n",
       "      <td>2016-08-11</td>\n",
       "      <td>2016-08-22</td>\n",
       "      <td>5.0</td>\n",
       "      <td>2</td>\n",
       "      <td>312.0</td>\n",
       "      <td>contact_me</td>\n",
       "      <td>past_booker</td>\n",
       "    </tr>\n",
       "    <tr>\n",
       "      <th>2</th>\n",
       "      <td>ebcd83ba-bda1-47eb-9680-2dd04ccf3988</td>\n",
       "      <td>13cbf50a-3272-45d4-9866-a06b6ea1b99a</td>\n",
       "      <td>d1eb1960-938f-4305-a353-51e224414dd4</td>\n",
       "      <td>2016-01-27 23:33:38</td>\n",
       "      <td>2016-01-28 02:12:47.0</td>\n",
       "      <td>NaN</td>\n",
       "      <td>NaN</td>\n",
       "      <td>2016-03-14</td>\n",
       "      <td>2016-03-23</td>\n",
       "      <td>1.0</td>\n",
       "      <td>3</td>\n",
       "      <td>164.0</td>\n",
       "      <td>contact_me</td>\n",
       "      <td>new</td>\n",
       "    </tr>\n",
       "    <tr>\n",
       "      <th>3</th>\n",
       "      <td>b0af8848-fe2a-4ef1-991e-26ab3066feb3</td>\n",
       "      <td>01614601-d5a4-4776-ab9b-c10d3b865bf0</td>\n",
       "      <td>855f6779-346c-45fc-a64b-ea133250ca7a</td>\n",
       "      <td>2016-05-05 14:42:52</td>\n",
       "      <td>2016-05-05 15:17:40.0</td>\n",
       "      <td>2016-05-05 15:17:40.0</td>\n",
       "      <td>NaN</td>\n",
       "      <td>2016-05-27</td>\n",
       "      <td>2016-05-29</td>\n",
       "      <td>2.0</td>\n",
       "      <td>3</td>\n",
       "      <td>203.0</td>\n",
       "      <td>contact_me</td>\n",
       "      <td>new</td>\n",
       "    </tr>\n",
       "  </tbody>\n",
       "</table>\n",
       "</div>"
      ],
      "text/plain": [
       "                          id_guest_anon                          id_host_anon  \\\n",
       "0  da8656a1-51af-4f38-b1c4-94be1f585157  5426897d-960d-4013-9e38-606ae746793c   \n",
       "1  8590d6f1-8bc9-4e8b-bdfb-de78f69fcf37  f30417c5-6df4-45ac-bfc2-6ad1cce398ab   \n",
       "2  ebcd83ba-bda1-47eb-9680-2dd04ccf3988  13cbf50a-3272-45d4-9866-a06b6ea1b99a   \n",
       "3  b0af8848-fe2a-4ef1-991e-26ab3066feb3  01614601-d5a4-4776-ab9b-c10d3b865bf0   \n",
       "\n",
       "                        id_listing_anon ts_interaction_first  \\\n",
       "0  a408a8b2-0d44-4513-a611-3736d0409bb2  2016-04-21 02:55:53   \n",
       "1  e387c705-0aeb-464c-9375-ece63be6f006  2016-02-16 22:14:01   \n",
       "2  d1eb1960-938f-4305-a353-51e224414dd4  2016-01-27 23:33:38   \n",
       "3  855f6779-346c-45fc-a64b-ea133250ca7a  2016-05-05 14:42:52   \n",
       "\n",
       "       ts_reply_at_first   ts_accepted_at_first          ts_booking_at  \\\n",
       "0  2016-04-21 03:15:00.0  2016-04-21 03:15:00.0  2016-04-21 03:15:00.0   \n",
       "1  2016-02-16 23:37:36.0                    NaN                    NaN   \n",
       "2  2016-01-28 02:12:47.0                    NaN                    NaN   \n",
       "3  2016-05-05 15:17:40.0  2016-05-05 15:17:40.0                    NaN   \n",
       "\n",
       "  ds_checkin_first ds_checkout_first  m_guests  m_interactions  \\\n",
       "0       2016-08-02        2016-08-06       4.0              30   \n",
       "1       2016-08-11        2016-08-22       5.0               2   \n",
       "2       2016-03-14        2016-03-23       1.0               3   \n",
       "3       2016-05-27        2016-05-29       2.0               3   \n",
       "\n",
       "   m_first_message_length_in_characters contact_channel_first  \\\n",
       "0                                  31.0               book_it   \n",
       "1                                 312.0            contact_me   \n",
       "2                                 164.0            contact_me   \n",
       "3                                 203.0            contact_me   \n",
       "\n",
       "  guest_user_stage_first  \n",
       "0            past_booker  \n",
       "1            past_booker  \n",
       "2                    new  \n",
       "3                    new  "
      ]
     },
     "execution_count": 119,
     "metadata": {},
     "output_type": "execute_result"
    }
   ],
   "source": [
    "df_contacts = pd.read_csv('./contacts.csv')\n",
    "df_contacts.head(4)"
   ]
  },
  {
   "cell_type": "code",
   "execution_count": 120,
   "metadata": {},
   "outputs": [
    {
     "name": "stdout",
     "output_type": "stream",
     "text": [
      "<class 'pandas.core.frame.DataFrame'>\n",
      "RangeIndex: 27887 entries, 0 to 27886\n",
      "Data columns (total 14 columns):\n",
      " #   Column                                Non-Null Count  Dtype  \n",
      "---  ------                                --------------  -----  \n",
      " 0   id_guest_anon                         27887 non-null  object \n",
      " 1   id_host_anon                          27887 non-null  object \n",
      " 2   id_listing_anon                       27887 non-null  object \n",
      " 3   ts_interaction_first                  27887 non-null  object \n",
      " 4   ts_reply_at_first                     25855 non-null  object \n",
      " 5   ts_accepted_at_first                  16415 non-null  object \n",
      " 6   ts_booking_at                         11587 non-null  object \n",
      " 7   ds_checkin_first                      27887 non-null  object \n",
      " 8   ds_checkout_first                     27887 non-null  object \n",
      " 9   m_guests                              27886 non-null  float64\n",
      " 10  m_interactions                        27887 non-null  int64  \n",
      " 11  m_first_message_length_in_characters  27887 non-null  float64\n",
      " 12  contact_channel_first                 27887 non-null  object \n",
      " 13  guest_user_stage_first                27887 non-null  object \n",
      "dtypes: float64(2), int64(1), object(11)\n",
      "memory usage: 3.0+ MB\n"
     ]
    }
   ],
   "source": [
    "df_contacts.info()"
   ]
  },
  {
   "cell_type": "code",
   "execution_count": 121,
   "metadata": {},
   "outputs": [],
   "source": [
    "date_columns = ['ts_interaction_first','ts_reply_at_first','ts_accepted_at_first','ts_booking_at','ds_checkin_first','ds_checkout_first']\n",
    "for colum_name in date_columns:\n",
    "    df_contacts[colum_name] = df_contacts[colum_name].apply(pd.Timestamp)"
   ]
  },
  {
   "cell_type": "code",
   "execution_count": 122,
   "metadata": {},
   "outputs": [
    {
     "data": {
      "text/plain": [
       "id_guest_anon                               0\n",
       "id_host_anon                                0\n",
       "id_listing_anon                             0\n",
       "ts_interaction_first                        0\n",
       "ts_reply_at_first                        2032\n",
       "ts_accepted_at_first                    11472\n",
       "ts_booking_at                           16300\n",
       "ds_checkin_first                            0\n",
       "ds_checkout_first                           0\n",
       "m_guests                                    1\n",
       "m_interactions                              0\n",
       "m_first_message_length_in_characters        0\n",
       "contact_channel_first                       0\n",
       "guest_user_stage_first                      0\n",
       "dtype: int64"
      ]
     },
     "execution_count": 122,
     "metadata": {},
     "output_type": "execute_result"
    }
   ],
   "source": [
    "df_contacts.isnull().sum()"
   ]
  },
  {
   "cell_type": "code",
   "execution_count": 123,
   "metadata": {},
   "outputs": [
    {
     "name": "stdout",
     "output_type": "stream",
     "text": [
      "Rows with no guests removed:  1\n"
     ]
    }
   ],
   "source": [
    "contacts_with_guests = df_contacts[df_contacts['m_guests'].isna() == False]\n",
    "print('Rows with no guests removed: ', len(df_contacts) - len(contacts_with_guests))\n",
    "df_contacts = contacts_with_guests"
   ]
  },
  {
   "cell_type": "code",
   "execution_count": 124,
   "metadata": {},
   "outputs": [
    {
     "data": {
      "text/html": [
       "<div>\n",
       "<style scoped>\n",
       "    .dataframe tbody tr th:only-of-type {\n",
       "        vertical-align: middle;\n",
       "    }\n",
       "\n",
       "    .dataframe tbody tr th {\n",
       "        vertical-align: top;\n",
       "    }\n",
       "\n",
       "    .dataframe thead th {\n",
       "        text-align: right;\n",
       "    }\n",
       "</style>\n",
       "<table border=\"1\" class=\"dataframe\">\n",
       "  <thead>\n",
       "    <tr style=\"text-align: right;\">\n",
       "      <th></th>\n",
       "      <th>ts_interaction_first</th>\n",
       "      <th>ts_reply_at_first</th>\n",
       "      <th>ts_accepted_at_first</th>\n",
       "      <th>ts_booking_at</th>\n",
       "      <th>ds_checkin_first</th>\n",
       "      <th>ds_checkout_first</th>\n",
       "      <th>m_guests</th>\n",
       "      <th>m_interactions</th>\n",
       "      <th>m_first_message_length_in_characters</th>\n",
       "    </tr>\n",
       "  </thead>\n",
       "  <tbody>\n",
       "    <tr>\n",
       "      <th>count</th>\n",
       "      <td>27886</td>\n",
       "      <td>25854</td>\n",
       "      <td>16415</td>\n",
       "      <td>11587</td>\n",
       "      <td>27886</td>\n",
       "      <td>27886</td>\n",
       "      <td>27886.000000</td>\n",
       "      <td>27886.000000</td>\n",
       "      <td>27886.000000</td>\n",
       "    </tr>\n",
       "    <tr>\n",
       "      <th>mean</th>\n",
       "      <td>2016-03-23 07:27:56.842752768</td>\n",
       "      <td>2016-03-25 03:09:02.702560512</td>\n",
       "      <td>2016-03-30 16:20:44.481267200</td>\n",
       "      <td>2016-04-02 17:27:40.525761536</td>\n",
       "      <td>2016-05-31 20:03:35.850247424</td>\n",
       "      <td>2016-06-08 08:43:52.546797568</td>\n",
       "      <td>2.782041</td>\n",
       "      <td>8.256007</td>\n",
       "      <td>193.714767</td>\n",
       "    </tr>\n",
       "    <tr>\n",
       "      <th>min</th>\n",
       "      <td>2016-01-01 00:46:47</td>\n",
       "      <td>2016-01-01 01:07:50</td>\n",
       "      <td>2016-01-01 12:24:15</td>\n",
       "      <td>2016-01-01 12:24:15</td>\n",
       "      <td>2016-01-01 00:00:00</td>\n",
       "      <td>2016-01-02 00:00:00</td>\n",
       "      <td>0.000000</td>\n",
       "      <td>1.000000</td>\n",
       "      <td>0.000000</td>\n",
       "    </tr>\n",
       "    <tr>\n",
       "      <th>25%</th>\n",
       "      <td>2016-01-28 00:12:19.500000</td>\n",
       "      <td>2016-01-29 19:51:35</td>\n",
       "      <td>2016-02-08 19:14:27</td>\n",
       "      <td>2016-02-14 12:37:13.500000</td>\n",
       "      <td>2016-03-11 00:00:00</td>\n",
       "      <td>2016-03-18 00:00:00</td>\n",
       "      <td>2.000000</td>\n",
       "      <td>3.000000</td>\n",
       "      <td>66.000000</td>\n",
       "    </tr>\n",
       "    <tr>\n",
       "      <th>50%</th>\n",
       "      <td>2016-03-18 23:18:20</td>\n",
       "      <td>2016-03-21 20:55:28</td>\n",
       "      <td>2016-03-30 12:16:14</td>\n",
       "      <td>2016-04-03 17:18:48</td>\n",
       "      <td>2016-06-11 00:00:00</td>\n",
       "      <td>2016-06-20 00:00:00</td>\n",
       "      <td>2.000000</td>\n",
       "      <td>5.000000</td>\n",
       "      <td>154.000000</td>\n",
       "    </tr>\n",
       "    <tr>\n",
       "      <th>75%</th>\n",
       "      <td>2016-05-13 05:49:36</td>\n",
       "      <td>2016-05-15 13:53:32.249999872</td>\n",
       "      <td>2016-05-19 12:44:38</td>\n",
       "      <td>2016-05-21 16:41:14</td>\n",
       "      <td>2016-08-08 00:00:00</td>\n",
       "      <td>2016-08-16 00:00:00</td>\n",
       "      <td>4.000000</td>\n",
       "      <td>10.000000</td>\n",
       "      <td>269.000000</td>\n",
       "    </tr>\n",
       "    <tr>\n",
       "      <th>max</th>\n",
       "      <td>2016-06-30 23:58:14</td>\n",
       "      <td>2017-02-23 08:56:59</td>\n",
       "      <td>2016-11-22 11:11:12</td>\n",
       "      <td>2016-09-21 21:55:48</td>\n",
       "      <td>2018-05-01 00:00:00</td>\n",
       "      <td>2018-05-04 00:00:00</td>\n",
       "      <td>16.000000</td>\n",
       "      <td>410.000000</td>\n",
       "      <td>2341.000000</td>\n",
       "    </tr>\n",
       "    <tr>\n",
       "      <th>std</th>\n",
       "      <td>NaN</td>\n",
       "      <td>NaN</td>\n",
       "      <td>NaN</td>\n",
       "      <td>NaN</td>\n",
       "      <td>NaN</td>\n",
       "      <td>NaN</td>\n",
       "      <td>1.863797</td>\n",
       "      <td>10.035914</td>\n",
       "      <td>183.175068</td>\n",
       "    </tr>\n",
       "  </tbody>\n",
       "</table>\n",
       "</div>"
      ],
      "text/plain": [
       "                ts_interaction_first              ts_reply_at_first  \\\n",
       "count                          27886                          25854   \n",
       "mean   2016-03-23 07:27:56.842752768  2016-03-25 03:09:02.702560512   \n",
       "min              2016-01-01 00:46:47            2016-01-01 01:07:50   \n",
       "25%       2016-01-28 00:12:19.500000            2016-01-29 19:51:35   \n",
       "50%              2016-03-18 23:18:20            2016-03-21 20:55:28   \n",
       "75%              2016-05-13 05:49:36  2016-05-15 13:53:32.249999872   \n",
       "max              2016-06-30 23:58:14            2017-02-23 08:56:59   \n",
       "std                              NaN                            NaN   \n",
       "\n",
       "                ts_accepted_at_first                  ts_booking_at  \\\n",
       "count                          16415                          11587   \n",
       "mean   2016-03-30 16:20:44.481267200  2016-04-02 17:27:40.525761536   \n",
       "min              2016-01-01 12:24:15            2016-01-01 12:24:15   \n",
       "25%              2016-02-08 19:14:27     2016-02-14 12:37:13.500000   \n",
       "50%              2016-03-30 12:16:14            2016-04-03 17:18:48   \n",
       "75%              2016-05-19 12:44:38            2016-05-21 16:41:14   \n",
       "max              2016-11-22 11:11:12            2016-09-21 21:55:48   \n",
       "std                              NaN                            NaN   \n",
       "\n",
       "                    ds_checkin_first              ds_checkout_first  \\\n",
       "count                          27886                          27886   \n",
       "mean   2016-05-31 20:03:35.850247424  2016-06-08 08:43:52.546797568   \n",
       "min              2016-01-01 00:00:00            2016-01-02 00:00:00   \n",
       "25%              2016-03-11 00:00:00            2016-03-18 00:00:00   \n",
       "50%              2016-06-11 00:00:00            2016-06-20 00:00:00   \n",
       "75%              2016-08-08 00:00:00            2016-08-16 00:00:00   \n",
       "max              2018-05-01 00:00:00            2018-05-04 00:00:00   \n",
       "std                              NaN                            NaN   \n",
       "\n",
       "           m_guests  m_interactions  m_first_message_length_in_characters  \n",
       "count  27886.000000    27886.000000                          27886.000000  \n",
       "mean       2.782041        8.256007                            193.714767  \n",
       "min        0.000000        1.000000                              0.000000  \n",
       "25%        2.000000        3.000000                             66.000000  \n",
       "50%        2.000000        5.000000                            154.000000  \n",
       "75%        4.000000       10.000000                            269.000000  \n",
       "max       16.000000      410.000000                           2341.000000  \n",
       "std        1.863797       10.035914                            183.175068  "
      ]
     },
     "execution_count": 124,
     "metadata": {},
     "output_type": "execute_result"
    }
   ],
   "source": [
    "df_contacts.describe()"
   ]
  },
  {
   "cell_type": "code",
   "execution_count": 125,
   "metadata": {},
   "outputs": [
    {
     "data": {
      "text/plain": [
       "contact_channel_first\n",
       "contact_me      12827\n",
       "book_it          8366\n",
       "instant_book     6693\n",
       "Name: count, dtype: int64"
      ]
     },
     "execution_count": 125,
     "metadata": {},
     "output_type": "execute_result"
    }
   ],
   "source": [
    "df_contacts['contact_channel_first'].value_counts()"
   ]
  },
  {
   "cell_type": "code",
   "execution_count": 126,
   "metadata": {},
   "outputs": [
    {
     "data": {
      "text/plain": [
       "guest_user_stage_first\n",
       "new            15905\n",
       "past_booker    11946\n",
       "-unknown-         35\n",
       "Name: count, dtype: int64"
      ]
     },
     "execution_count": 126,
     "metadata": {},
     "output_type": "execute_result"
    }
   ],
   "source": [
    "df_contacts['guest_user_stage_first'].value_counts()"
   ]
  },
  {
   "cell_type": "markdown",
   "metadata": {},
   "source": [
    "## Users\n",
    "- id_user_anon: primary key\n",
    "- country: "
   ]
  },
  {
   "cell_type": "code",
   "execution_count": 127,
   "metadata": {},
   "outputs": [
    {
     "data": {
      "text/html": [
       "<div>\n",
       "<style scoped>\n",
       "    .dataframe tbody tr th:only-of-type {\n",
       "        vertical-align: middle;\n",
       "    }\n",
       "\n",
       "    .dataframe tbody tr th {\n",
       "        vertical-align: top;\n",
       "    }\n",
       "\n",
       "    .dataframe thead th {\n",
       "        text-align: right;\n",
       "    }\n",
       "</style>\n",
       "<table border=\"1\" class=\"dataframe\">\n",
       "  <thead>\n",
       "    <tr style=\"text-align: right;\">\n",
       "      <th></th>\n",
       "      <th>id_user_anon</th>\n",
       "      <th>country</th>\n",
       "      <th>words_in_user_profile</th>\n",
       "    </tr>\n",
       "  </thead>\n",
       "  <tbody>\n",
       "    <tr>\n",
       "      <th>0</th>\n",
       "      <td>1d16a001-31a2-494c-a101-1f7b308adc62</td>\n",
       "      <td>FR</td>\n",
       "      <td>0</td>\n",
       "    </tr>\n",
       "    <tr>\n",
       "      <th>1</th>\n",
       "      <td>42607e0a-86c0-472e-b633-9e192114e93c</td>\n",
       "      <td>AR</td>\n",
       "      <td>0</td>\n",
       "    </tr>\n",
       "    <tr>\n",
       "      <th>2</th>\n",
       "      <td>25f85eb5-a700-44e1-b142-4c076222198d</td>\n",
       "      <td>BR</td>\n",
       "      <td>0</td>\n",
       "    </tr>\n",
       "    <tr>\n",
       "      <th>3</th>\n",
       "      <td>55abeba0-18ef-4c58-80f4-3c278b706aca</td>\n",
       "      <td>BR</td>\n",
       "      <td>1</td>\n",
       "    </tr>\n",
       "  </tbody>\n",
       "</table>\n",
       "</div>"
      ],
      "text/plain": [
       "                           id_user_anon country  words_in_user_profile\n",
       "0  1d16a001-31a2-494c-a101-1f7b308adc62      FR                      0\n",
       "1  42607e0a-86c0-472e-b633-9e192114e93c      AR                      0\n",
       "2  25f85eb5-a700-44e1-b142-4c076222198d      BR                      0\n",
       "3  55abeba0-18ef-4c58-80f4-3c278b706aca      BR                      1"
      ]
     },
     "execution_count": 127,
     "metadata": {},
     "output_type": "execute_result"
    }
   ],
   "source": [
    "df_users = pd.read_csv('./users.csv')\n",
    "df_users.head(4)"
   ]
  },
  {
   "cell_type": "code",
   "execution_count": 128,
   "metadata": {},
   "outputs": [
    {
     "name": "stdout",
     "output_type": "stream",
     "text": [
      "<class 'pandas.core.frame.DataFrame'>\n",
      "RangeIndex: 31525 entries, 0 to 31524\n",
      "Data columns (total 3 columns):\n",
      " #   Column                 Non-Null Count  Dtype \n",
      "---  ------                 --------------  ----- \n",
      " 0   id_user_anon           31525 non-null  object\n",
      " 1   country                31524 non-null  object\n",
      " 2   words_in_user_profile  31525 non-null  int64 \n",
      "dtypes: int64(1), object(2)\n",
      "memory usage: 739.0+ KB\n"
     ]
    }
   ],
   "source": [
    "df_users.info()"
   ]
  },
  {
   "cell_type": "code",
   "execution_count": 129,
   "metadata": {},
   "outputs": [
    {
     "data": {
      "text/plain": [
       "id_user_anon             0\n",
       "country                  1\n",
       "words_in_user_profile    0\n",
       "dtype: int64"
      ]
     },
     "execution_count": 129,
     "metadata": {},
     "output_type": "execute_result"
    }
   ],
   "source": [
    "df_users.isnull().sum()"
   ]
  },
  {
   "cell_type": "markdown",
   "metadata": {},
   "source": [
    "### Imputting missing country"
   ]
  },
  {
   "cell_type": "code",
   "execution_count": 130,
   "metadata": {},
   "outputs": [
    {
     "name": "stdout",
     "output_type": "stream",
     "text": [
      "Rows imputted:  1\n"
     ]
    }
   ],
   "source": [
    "most_common_country = df_users['country'].mode()[0]\n",
    "users_with_missing_country = len(df_users[df_users['country'].isnull()])\n",
    "df_users.loc[df_users['country'].isnull(), 'country'] = most_common_country\n",
    "print('Rows imputted: ', users_with_missing_country)"
   ]
  },
  {
   "cell_type": "code",
   "execution_count": 131,
   "metadata": {},
   "outputs": [
    {
     "data": {
      "text/html": [
       "<div>\n",
       "<style scoped>\n",
       "    .dataframe tbody tr th:only-of-type {\n",
       "        vertical-align: middle;\n",
       "    }\n",
       "\n",
       "    .dataframe tbody tr th {\n",
       "        vertical-align: top;\n",
       "    }\n",
       "\n",
       "    .dataframe thead th {\n",
       "        text-align: right;\n",
       "    }\n",
       "</style>\n",
       "<table border=\"1\" class=\"dataframe\">\n",
       "  <thead>\n",
       "    <tr style=\"text-align: right;\">\n",
       "      <th></th>\n",
       "      <th>words_in_user_profile</th>\n",
       "    </tr>\n",
       "  </thead>\n",
       "  <tbody>\n",
       "    <tr>\n",
       "      <th>count</th>\n",
       "      <td>31525.000000</td>\n",
       "    </tr>\n",
       "    <tr>\n",
       "      <th>mean</th>\n",
       "      <td>16.222141</td>\n",
       "    </tr>\n",
       "    <tr>\n",
       "      <th>std</th>\n",
       "      <td>44.391491</td>\n",
       "    </tr>\n",
       "    <tr>\n",
       "      <th>min</th>\n",
       "      <td>0.000000</td>\n",
       "    </tr>\n",
       "    <tr>\n",
       "      <th>25%</th>\n",
       "      <td>0.000000</td>\n",
       "    </tr>\n",
       "    <tr>\n",
       "      <th>50%</th>\n",
       "      <td>0.000000</td>\n",
       "    </tr>\n",
       "    <tr>\n",
       "      <th>75%</th>\n",
       "      <td>12.000000</td>\n",
       "    </tr>\n",
       "    <tr>\n",
       "      <th>max</th>\n",
       "      <td>1460.000000</td>\n",
       "    </tr>\n",
       "  </tbody>\n",
       "</table>\n",
       "</div>"
      ],
      "text/plain": [
       "       words_in_user_profile\n",
       "count           31525.000000\n",
       "mean               16.222141\n",
       "std                44.391491\n",
       "min                 0.000000\n",
       "25%                 0.000000\n",
       "50%                 0.000000\n",
       "75%                12.000000\n",
       "max              1460.000000"
      ]
     },
     "execution_count": 131,
     "metadata": {},
     "output_type": "execute_result"
    }
   ],
   "source": [
    "df_users.describe()"
   ]
  },
  {
   "cell_type": "markdown",
   "metadata": {},
   "source": [
    "# Save cleaned data frames"
   ]
  },
  {
   "cell_type": "code",
   "execution_count": 132,
   "metadata": {},
   "outputs": [],
   "source": [
    "save_to_pickle('./data/df_listings.pkl', df_listings)\n",
    "save_to_pickle('./data/df_contacts.pkl', df_contacts)\n",
    "save_to_pickle('./data/users.pkl', df_users)"
   ]
  }
 ],
 "metadata": {
  "kernelspec": {
   "display_name": "scikit-learn1.3.1",
   "language": "python",
   "name": "python3"
  },
  "language_info": {
   "codemirror_mode": {
    "name": "ipython",
    "version": 3
   },
   "file_extension": ".py",
   "mimetype": "text/x-python",
   "name": "python",
   "nbconvert_exporter": "python",
   "pygments_lexer": "ipython3",
   "version": "3.11.5"
  }
 },
 "nbformat": 4,
 "nbformat_minor": 2
}
